{
  "nbformat": 4,
  "nbformat_minor": 0,
  "metadata": {
    "colab": {
      "provenance": [],
      "collapsed_sections": [
        "AOGovSWr7h5r",
        "L_E32GR64y9F",
        "Oc7XfL6FG00V",
        "FsHQ_jgpoO9l"
      ],
      "authorship_tag": "ABX9TyP/5UMj67KA+EeXeoV21YxX",
      "include_colab_link": true
    },
    "kernelspec": {
      "name": "python3",
      "display_name": "Python 3"
    },
    "language_info": {
      "name": "python"
    }
  },
  "cells": [
    {
      "cell_type": "markdown",
      "metadata": {
        "id": "view-in-github",
        "colab_type": "text"
      },
      "source": [
        "<a href=\"https://colab.research.google.com/github/yamaniyuda/assignments-before-the-exam/blob/main/pra_uas_s_1.ipynb\" target=\"_parent\"><img src=\"https://colab.research.google.com/assets/colab-badge.svg\" alt=\"Open In Colab\"/></a>"
      ]
    },
    {
      "cell_type": "markdown",
      "source": [
        "# Bracked Sequence (List)"
      ],
      "metadata": {
        "id": "AOGovSWr7h5r"
      }
    },
    {
      "cell_type": "code",
      "execution_count": 3,
      "metadata": {
        "id": "9L0rPSeZ7C-b",
        "colab": {
          "base_uri": "https://localhost:8080/"
        },
        "outputId": "69510d13-8dc7-4ad9-aa04-03ac59c2371e"
      },
      "outputs": [
        {
          "output_type": "stream",
          "name": "stdout",
          "text": [
            "Masukan urutan kurung: )((()())\n",
            "Urutan kurung yang benar : 4\n"
          ]
        }
      ],
      "source": [
        "def count_valid_bracket_sequences(bracket_string: str) -> int:\n",
        "  open_bracked = []\n",
        "  close_bracked = []\n",
        "  count = 0\n",
        "\n",
        "  for char in bracket_string:\n",
        "    match (char):\n",
        "      case '(':\n",
        "        if close_bracked:\n",
        "          close_bracked.pop()\n",
        "          count += 1\n",
        "        else: open_bracked.append(char)\n",
        "      case ')':\n",
        "        if open_bracked:\n",
        "          open_bracked.pop()\n",
        "          count += 1\n",
        "        else: close_bracked.append(char)\n",
        "  return count\n",
        "\n",
        "def main():\n",
        "  brackets = input('Masukan urutan kurung: ')\n",
        "  print(f'Urutan kurung yang benar : {count_valid_bracket_sequences(brackets)}')\n",
        "\n",
        "if __name__ == \"__main__\":\n",
        "  main()"
      ]
    },
    {
      "cell_type": "markdown",
      "source": [
        "# Stack and Queue (Stack, Queue)"
      ],
      "metadata": {
        "id": "L_E32GR64y9F"
      }
    },
    {
      "cell_type": "code",
      "source": [
        "import re\n",
        "\n",
        "def queue_stack(commands: list[str]) -> str:\n",
        "  state = []\n",
        "  for command in commands:\n",
        "    try:\n",
        "      data = re.sub(r'\\s+', ' ', command).split()\n",
        "\n",
        "      if len(data) > 1 and not (1 <= int(data[1]) <= 1000000):\n",
        "        raise ValueError(\"\")\n",
        "\n",
        "      match data[0]:\n",
        "        case 'push_back':\n",
        "          state.append(data[1])\n",
        "        case 'push_front':\n",
        "          state.insert(0, data[1])\n",
        "        case 'pop_back':\n",
        "          if state: state.pop()\n",
        "        case 'pop_front':\n",
        "          if state: state.pop(0)\n",
        "    except ValueError:\n",
        "      print(f'Error: Invalid command format: {command}')\n",
        "  return state\n",
        "\n",
        "def main():\n",
        "  while True:\n",
        "    try:\n",
        "      commands = []\n",
        "      many_commands = int(input(\"Masukan banyak perintah yang akan dijalankan : \"))\n",
        "\n",
        "      if not (1 <= many_commands <= 10000):\n",
        "        raise ValueError()\n",
        "\n",
        "      for _ in range(many_commands):\n",
        "        commands.append(input(\"\\t\").lower())\n",
        "      print(f'\\nKondisi terakhir dari QueueStack : {queue_stack(commands)}')\n",
        "      break\n",
        "    except:\n",
        "      print(f'Error: Invalid input')\n",
        "\n",
        "if __name__ == \"__main__\":\n",
        "  main()"
      ],
      "metadata": {
        "colab": {
          "base_uri": "https://localhost:8080/"
        },
        "id": "92xL4OFY5TQr",
        "outputId": "58344bf0-6a74-439a-bbb5-79aa237cfdac"
      },
      "execution_count": 1,
      "outputs": [
        {
          "output_type": "stream",
          "name": "stdout",
          "text": [
            "Masukan banyak perintah yang akan dijalankan : 2\n",
            "\tpush_back 4\n",
            "\tpop_back\n",
            "\n",
            "Kondisi terakhir dari QueueStack : []\n"
          ]
        }
      ]
    },
    {
      "cell_type": "markdown",
      "source": [
        "# Modified Queue (Queue)"
      ],
      "metadata": {
        "id": "Oc7XfL6FG00V"
      }
    },
    {
      "cell_type": "code",
      "source": [
        "import re\n",
        "\n",
        "def is_in_range(front_limit: int, back_limit: int, *values: list[int]) -> bool:\n",
        "  for value in values:\n",
        "    if not front_limit <= value <= back_limit:\n",
        "      return False\n",
        "  return True\n",
        "\n",
        "\n",
        "\n",
        "def command_validate(data: list[str]) -> None:\n",
        "  if data[0] == 'rev' and len(data) > 1:\n",
        "    raise ValueError()\n",
        "  if len(data) > 3:\n",
        "    raise ValueError()\n",
        "  if len(data) > 2 and not is_in_range(1, 10000, int(data[2])):\n",
        "    raise ValueError()\n",
        "  if len(data) > 1 and not is_in_range(1, 10000, int(data[1])):\n",
        "    raise ValueError()\n",
        "\n",
        "\n",
        "\n",
        "def modified_queue(commands: list[str]) -> None:\n",
        "  state = []\n",
        "  output_result = f'awal {f\"   \":<9} : {f\"{[]}\":<30}'\n",
        "\n",
        "  for command in commands:\n",
        "    try:\n",
        "      data = re.sub(r'\\s+', ' ', command).split()\n",
        "      command_validate(data)\n",
        "\n",
        "      match data[0]:\n",
        "        case 'add':\n",
        "          _, x, y = data\n",
        "          state.extend([x for _ in range(int(y))])\n",
        "          output_result += f'\\nadd {f\"{x} {y}\":<10} : {f\"{state}\":<30} -> cetak {len(state)}'\n",
        "        case 'del':\n",
        "          _, x = data\n",
        "          first_value = state[0]\n",
        "          del state[:int(data[1])]\n",
        "          output_result += f'\\ndel {f\"{x}  \":<10} : {f\"{state}\":<30} -> cetak {first_value}'\n",
        "        case 'rev':\n",
        "          state = state[::-1]\n",
        "          output_result += f'\\nrev {f\"   \":<10} : {f\"{state}\":<30} '\n",
        "          pass\n",
        "    except ValueError:\n",
        "      print(f'Error: Invalid command format: {command}')\n",
        "  print(output_result)\n",
        "\n",
        "\n",
        "\n",
        "def main():\n",
        "  while True:\n",
        "    try:\n",
        "      commands = []\n",
        "      many_commands = int(input(\"Masukan banyak perintah yang akan dijalankan : \"))\n",
        "\n",
        "      if not (1 <= many_commands <= 1000):\n",
        "        raise ValueError()\n",
        "\n",
        "      for _ in range(many_commands):\n",
        "        commands.append(input(\"\\t\").lower())\n",
        "      print(\"\\nresult\")\n",
        "      modified_queue(commands)\n",
        "      break\n",
        "    except:\n",
        "      print(f'Error: Invalid input')\n",
        "\n",
        "if __name__ == \"__main__\":\n",
        "  main()"
      ],
      "metadata": {
        "colab": {
          "base_uri": "https://localhost:8080/"
        },
        "id": "gfoinS6sMtIO",
        "outputId": "2aaab1cf-0e02-433f-e56f-0024889768e0"
      },
      "execution_count": 78,
      "outputs": [
        {
          "output_type": "stream",
          "name": "stdout",
          "text": [
            "Masukan banyak perintah yang akan dijalankan : 1\n",
            "\tadd 1 1\n",
            "\n",
            "result\n",
            "awal           : []                            \n",
            "add 1 1        : ['1']                          -> cetak 1\n"
          ]
        }
      ]
    },
    {
      "cell_type": "markdown",
      "source": [
        "# Cetak Jalan Antar Kandang (Graph, BFS, DFS)"
      ],
      "metadata": {
        "id": "FsHQ_jgpoO9l"
      }
    },
    {
      "cell_type": "code",
      "source": [
        "import re\n",
        "\n",
        "class Node:\n",
        "  def __init__(self, value, neighboars=None) -> None:\n",
        "    self.value = value\n",
        "    self.neighboars = neighboars if neighboars is not None else []\n",
        "\n",
        "  def has_neighboars(self):\n",
        "    if self.number_of_neighbors() == 0: return False\n",
        "    return True\n",
        "\n",
        "  def number_of_neighbors(self):\n",
        "    return len(self.neighboars)\n",
        "\n",
        "  def add_neighbor(self, neighbor):\n",
        "    self.neighboars.append(neighbor)\n",
        "\n",
        "\n",
        "\n",
        "class Graph:\n",
        "  def __init__(self, nodes: list[Node] = None) -> None:\n",
        "    self.nodes = nodes if nodes is not None else []\n",
        "\n",
        "  def add_node(self, value, neighboars=None):\n",
        "    self.nodes.append(Node(value, neighboars))\n",
        "\n",
        "  def find_node(self, value):\n",
        "    for node in self.nodes:\n",
        "      if node.value == value:\n",
        "        return node\n",
        "    return None\n",
        "\n",
        "  def add_edge(self, value1, value2, weight = 1):\n",
        "    node1 = self.find_node(value1)\n",
        "    node2 = self.find_node(value2)\n",
        "\n",
        "    if (node1 is not None) and (node2 is not None):\n",
        "      node1.add_neighbor((node2, weight))\n",
        "      node2.add_neighbor((node1, weight))\n",
        "    else:\n",
        "      print(\"Error: One or more nodes were not found\")\n",
        "\n",
        "  def are_connected(self, node_one, node_two):\n",
        "    node_one = self.find_node(node_one)\n",
        "    node_two = self.find_node(node_two)\n",
        "    for neighboar in node_one.neighboars:\n",
        "      if neighboar[0].value == node_two.value:\n",
        "        return True\n",
        "    return False\n",
        "\n",
        "\n",
        "\n",
        "def check_road_cage(graph: Graph, commands: list[str]):\n",
        "  print(\"Cek kandang jalan antar kandang\")\n",
        "  for command in commands:\n",
        "    try:\n",
        "      cmd, a, b = re.sub(r'\\s+', ' ', command).split()\n",
        "      match cmd:\n",
        "        case '1':\n",
        "          graph.add_edge(int(a), int(b))\n",
        "        case '2':\n",
        "          result = 'Terhubung' if graph.are_connected(int(a), int(b)) else 'Tidak Terhubung'\n",
        "          print(f'(\\'Kandang {a} Kandang {b}\\', \\'{result}\\')')\n",
        "    except:\n",
        "      print(f'Error: Invalid command format: {command}')\n",
        "\n",
        "\n",
        "\n",
        "def main():\n",
        "    while True:\n",
        "      try:\n",
        "        commands = []\n",
        "        graph = Graph()\n",
        "        a, b = re.sub(r'\\s+', ' ', input(\"Banyak Kandang, Banyak Operasi : \")).split()\n",
        "        for i in range(int(a)):\n",
        "          graph.add_node(i + 1)\n",
        "\n",
        "        for i in range(int(b)):\n",
        "          commands.append(input(f'Operasi ke - {i + 1} : '))\n",
        "        check_road_cage(graph, commands)\n",
        "        break\n",
        "      except:\n",
        "        print(\"Error: Invalid input\")\n",
        "\n",
        "\n",
        "if __name__ == \"__main__\":\n",
        "  main()"
      ],
      "metadata": {
        "colab": {
          "base_uri": "https://localhost:8080/"
        },
        "id": "h53M6OB5or1y",
        "outputId": "3ac5d6a3-5ffa-4810-a96a-d74311380d5d"
      },
      "execution_count": 1,
      "outputs": [
        {
          "output_type": "stream",
          "name": "stdout",
          "text": [
            "Banyak Kandang, Banyak Operasi : 5 7\n",
            "Operasi ke - 1 : 1 1 4\n",
            "Operasi ke - 2 : 2 1 2\n",
            "Operasi ke - 3 : 1 1 2\n",
            "Operasi ke - 4 : 2 1 2\n",
            "Operasi ke - 5 : 1 3 5\n",
            "Operasi ke - 6 : 1 2 3\n",
            "Operasi ke - 7 : 2 1 5\n",
            "Cek kandang jalan antar kandang\n",
            "('Kandang 1 Kandang 2', 'Tidak Terhubung')\n",
            "('Kandang 1 Kandang 2', 'Terhubung')\n",
            "('Kandang 1 Kandang 5', 'Tidak Terhubung')\n"
          ]
        }
      ]
    }
  ]
}